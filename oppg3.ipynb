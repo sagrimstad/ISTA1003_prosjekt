{
 "cells": [
  {
   "cell_type": "markdown",
   "id": "f5c065e3-80ee-4621-bb3a-552e0bf98b4c",
   "metadata": {},
   "source": [
    "# Oppgave 3: Klyngeanalyse (20%)<a name=\"oppgave3\"></a>"
   ]
  },
  {
   "cell_type": "markdown",
   "id": "d6ea2479-f28e-4792-ae0c-8d041fee0d6a",
   "metadata": {},
   "source": [
    "*Oppgave 3 består av 4 deler med til sammen 10 spørsmål, der alle spørsmål (3a.1), 3a.2) etc.) teller likt. Oppgave 3 teller totalt 20 % av prosjektet.*\n",
    "\n",
    "**Oppgaven inneholder følgende elementer:**\n",
    "\n",
    "* Laste inn og utforske et bilde, gjøre bildet om til et datasett for bruk i klyngeanalyse\n",
    "* Bruk $K$-gjennomsnitt-klyngeanalyse får å finne klynger i bilder av håndskrevne tall. \n",
    "* Vise resultater fra klyngeanalysen - som bilde - og tolke resultatene\n",
    "* Diskutere $K$-gjennomsnitt-klyngeanalyse vs. hierarkisk klynganalyse\n",
    "* Utvide til flere klynger i $K$-gjennomsnitt-klyngeanalyse\n",
    "\n",
    "## Innholdsfortegnelse\n",
    "* [Introduksjon](#intro)\n",
    "* [Oppgave 3a) Les inn datasettet og bli kjent med det](#oppgave3a)\n",
    "* [Oppgave 3b) Klyngeanalyse med $K$-gjennomsnitt](#oppgave3b)\n",
    "* [Oppgave 3c) Hierarkisk klyngeanalyse](#oppgave3c)\n",
    "* [Oppgave 3d) Prediksjon](#oppgave3d)"
   ]
  },
  {
   "cell_type": "markdown",
   "id": "66140612-23b8-4d5b-adc5-9d81f2889957",
   "metadata": {},
   "source": [
    "### Finn klynger (struktur) i bildene av håndskrevne tall<a name=\"intro\"></a>\n",
    "\n",
    "Et stort felt innom maskinlæring er bildegjenkjenning (image recognition) og klassifisering. Dette betyr at vi vil laste inn et bilde til en statistisk algoritme, og får tilbake en etikett som beskriver hva bildet representerer, for eksempel en person, et tall eller en sykdom.\n",
    "\n",
    "I denne oppgaven skal vi jobbe med data fra *mnist* (Modified National Institure of Standards and Technology) databasen, som for eksempel finnes her: https://www.kaggle.com/c/digit-recognizer. Datasettet inneholder digitaliserte bilder av handskrevne siffer (0-9), og dette pleier å bli brukt for å trene maskinlæringsalgoritmer for klassifisering (det betyr at du vil forutsi hvilket tall et bestemt bilde inneholder, slik at datamaskinen kan lese tall, for eksempel postnummer på et brev).\n",
    "\n",
    "Her bruker vi dette datasettet til noe annet: Vi vil undersøke om vi finner struktur i bildene ved bruk av en klyngeanalyse. Vi vil jo kanskje håpe at de samme sifrene kommer til å bli gruppert i en klynge fordi de inneholder lignende mønstre. Her skal vi se om det er sant. \n",
    "\n",
    "Vi har lært om to populære algoritmer som brukes til å lage klynger av objekter: \n",
    "\n",
    "   * $K$-gjennomsnitt ($K$-means) algoritmen: Målet med denne algoritmen er å plassere de individuelle observasjonene i $K$ grupper (kalt klynger) basert på observasjonenes avstand til grupper av andre observasjoner. Algoritmen kjøres iterativt, og stoppes når at alle observasjoner som ligner hverandre er plassert i en gruppe (klynge) sammen.\n",
    "   * Hierarkisk klyngeanalyse (se nedenfor).\n",
    "\n",
    "**Vi skal kun se på 3 ulike siffer mellom 0 og 9.**"
   ]
  },
  {
   "cell_type": "code",
   "execution_count": 3,
   "id": "33e0d28a-ecd5-4a38-bf7f-1383799ed552",
   "metadata": {
    "ExecuteTime": {
     "end_time": "2023-11-12T13:11:05.490496600Z",
     "start_time": "2023-11-12T13:11:05.377087500Z"
    }
   },
   "outputs": [],
   "source": [
    "# importere pakker og funksjoner vi trenger i oppgave 3\n",
    "import numpy as np\n",
    "import pandas as pd\n",
    "import matplotlib.pyplot as plt\n",
    "from sklearn.cluster import KMeans # k-gjennomsnitt klyngeanalyse\n",
    "from scipy.cluster.hierarchy import dendrogram, linkage\n",
    "from matplotlib.offsetbox import OffsetImage, AnnotationBbox"
   ]
  },
  {
   "cell_type": "markdown",
   "id": "65671231-9c7d-41a3-b9d8-ffb6580da4be",
   "metadata": {},
   "source": [
    "### Oppgave 3a) Les inn datasettet og bli kjent med det<a name=\"oppgave3a\"></a>\n",
    "\n",
    "*Oppgave 3a) inneholder 3 spørsmål du skal svare på.*\n",
    "\n",
    "Vi begynner med å lese inn datasettet som inneholder informasjon om digitaliserte handskrevne siffer. Hvert siffer finnes i en firkant med $28\\cdot 28$ = 784 pixler, og dermed er hvert bilde representert som en vektor med lengde 784.\n"
   ]
  },
  {
   "cell_type": "code",
   "execution_count": 4,
   "id": "53da990b-70da-4109-a10e-f5580d4e52e8",
   "metadata": {
    "ExecuteTime": {
     "end_time": "2023-11-12T13:11:06.542417800Z",
     "start_time": "2023-11-12T13:11:05.392328500Z"
    }
   },
   "outputs": [
    {
     "data": {
      "text/plain": "   V1  V2  V3  V4  V5  V6  V7  V8  V9  V10  ...  V775  V776  V777  V778  V779  \\\n1   0   0   0   0   0   0   0   0   0    0  ...     0     0     0     0     0   \n2   0   0   0   0   0   0   0   0   0    0  ...     0     0     0     0     0   \n3   0   0   0   0   0   0   0   0   0    0  ...     0     0     0     0     0   \n4   0   0   0   0   0   0   0   0   0    0  ...     0     0     0     0     0   \n5   0   0   0   0   0   0   0   0   0    0  ...     0     0     0     0     0   \n\n   V780  V781  V782  V783  V784  \n1     0     0     0     0     0  \n2     0     0     0     0     0  \n3     0     0     0     0     0  \n4     0     0     0     0     0  \n5     0     0     0     0     0  \n\n[5 rows x 784 columns]",
      "text/html": "<div>\n<style scoped>\n    .dataframe tbody tr th:only-of-type {\n        vertical-align: middle;\n    }\n\n    .dataframe tbody tr th {\n        vertical-align: top;\n    }\n\n    .dataframe thead th {\n        text-align: right;\n    }\n</style>\n<table border=\"1\" class=\"dataframe\">\n  <thead>\n    <tr style=\"text-align: right;\">\n      <th></th>\n      <th>V1</th>\n      <th>V2</th>\n      <th>V3</th>\n      <th>V4</th>\n      <th>V5</th>\n      <th>V6</th>\n      <th>V7</th>\n      <th>V8</th>\n      <th>V9</th>\n      <th>V10</th>\n      <th>...</th>\n      <th>V775</th>\n      <th>V776</th>\n      <th>V777</th>\n      <th>V778</th>\n      <th>V779</th>\n      <th>V780</th>\n      <th>V781</th>\n      <th>V782</th>\n      <th>V783</th>\n      <th>V784</th>\n    </tr>\n  </thead>\n  <tbody>\n    <tr>\n      <th>1</th>\n      <td>0</td>\n      <td>0</td>\n      <td>0</td>\n      <td>0</td>\n      <td>0</td>\n      <td>0</td>\n      <td>0</td>\n      <td>0</td>\n      <td>0</td>\n      <td>0</td>\n      <td>...</td>\n      <td>0</td>\n      <td>0</td>\n      <td>0</td>\n      <td>0</td>\n      <td>0</td>\n      <td>0</td>\n      <td>0</td>\n      <td>0</td>\n      <td>0</td>\n      <td>0</td>\n    </tr>\n    <tr>\n      <th>2</th>\n      <td>0</td>\n      <td>0</td>\n      <td>0</td>\n      <td>0</td>\n      <td>0</td>\n      <td>0</td>\n      <td>0</td>\n      <td>0</td>\n      <td>0</td>\n      <td>0</td>\n      <td>...</td>\n      <td>0</td>\n      <td>0</td>\n      <td>0</td>\n      <td>0</td>\n      <td>0</td>\n      <td>0</td>\n      <td>0</td>\n      <td>0</td>\n      <td>0</td>\n      <td>0</td>\n    </tr>\n    <tr>\n      <th>3</th>\n      <td>0</td>\n      <td>0</td>\n      <td>0</td>\n      <td>0</td>\n      <td>0</td>\n      <td>0</td>\n      <td>0</td>\n      <td>0</td>\n      <td>0</td>\n      <td>0</td>\n      <td>...</td>\n      <td>0</td>\n      <td>0</td>\n      <td>0</td>\n      <td>0</td>\n      <td>0</td>\n      <td>0</td>\n      <td>0</td>\n      <td>0</td>\n      <td>0</td>\n      <td>0</td>\n    </tr>\n    <tr>\n      <th>4</th>\n      <td>0</td>\n      <td>0</td>\n      <td>0</td>\n      <td>0</td>\n      <td>0</td>\n      <td>0</td>\n      <td>0</td>\n      <td>0</td>\n      <td>0</td>\n      <td>0</td>\n      <td>...</td>\n      <td>0</td>\n      <td>0</td>\n      <td>0</td>\n      <td>0</td>\n      <td>0</td>\n      <td>0</td>\n      <td>0</td>\n      <td>0</td>\n      <td>0</td>\n      <td>0</td>\n    </tr>\n    <tr>\n      <th>5</th>\n      <td>0</td>\n      <td>0</td>\n      <td>0</td>\n      <td>0</td>\n      <td>0</td>\n      <td>0</td>\n      <td>0</td>\n      <td>0</td>\n      <td>0</td>\n      <td>0</td>\n      <td>...</td>\n      <td>0</td>\n      <td>0</td>\n      <td>0</td>\n      <td>0</td>\n      <td>0</td>\n      <td>0</td>\n      <td>0</td>\n      <td>0</td>\n      <td>0</td>\n      <td>0</td>\n    </tr>\n  </tbody>\n</table>\n<p>5 rows × 784 columns</p>\n</div>"
     },
     "execution_count": 4,
     "metadata": {},
     "output_type": "execute_result"
    }
   ],
   "source": [
    "# Leser inn datasettet og ser på de første 5 radene (tallene)\n",
    "\n",
    "images = pd.read_csv('https://www.math.ntnu.no/emner/IST100x/ISTx1003/h2023/mnist_2023.csv', sep = \",\", index_col = 0)\n",
    "\n",
    "images.head()"
   ]
  },
  {
   "cell_type": "markdown",
   "id": "0d5f4d35-d020-4f99-ac82-2c0e7fc04ba9",
   "metadata": {},
   "source": [
    "Å skrive ut headeren gir oss lite informasjon. Pikslene for disse bildene er gitt som et tall mellom 0 og 255 (gråskala), hvor 0 representerer helt svart og 255 representerer helt hvitt. Pikslene representert ovenfor er det øverste venstre hjørnet av bildet, og det nedre høyre hjørnet av bildet, som vi forventer ville være tomt (svart, og derfor 0).\n",
    "\n",
    "Vi ønsker å standardisere disse tallene slik at de er mellom 0.0 og 1.0 før analysen utføres."
   ]
  },
  {
   "cell_type": "code",
   "execution_count": 5,
   "id": "913abbcc-4c6f-41b7-b680-7ac791311063",
   "metadata": {
    "ExecuteTime": {
     "end_time": "2023-11-12T13:11:06.590568Z",
     "start_time": "2023-11-12T13:11:06.532111900Z"
    }
   },
   "outputs": [],
   "source": [
    "## standardisering av dataene\n",
    "images = images/255"
   ]
  },
  {
   "cell_type": "markdown",
   "id": "0a901278-547f-4e32-bbda-229888f60a7b",
   "metadata": {},
   "source": [
    "Vi vil vite litt om formatet til datasettet vårt, og skriver ut litt informasjon."
   ]
  },
  {
   "cell_type": "code",
   "execution_count": 6,
   "id": "d9a4f919-1eff-4045-b3e5-986fffcbc95c",
   "metadata": {
    "ExecuteTime": {
     "end_time": "2023-11-12T13:11:06.648947500Z",
     "start_time": "2023-11-12T13:11:06.561819400Z"
    }
   },
   "outputs": [
    {
     "name": "stdout",
     "output_type": "stream",
     "text": [
      "Bildet har type <class 'pandas.core.frame.DataFrame'>\n",
      "Størrelsen til tabellen er (6000, 784)\n",
      "Gjennomsnittsfarge i bilde 50 er 0.15412164865946382\n",
      "Dataformatet til en piksel er <class 'numpy.float64'>\n"
     ]
    }
   ],
   "source": [
    "print(\"Bildet har type\", type(images))\n",
    "print(\"Størrelsen til tabellen er\", images.shape)\n",
    "# gjennomsnittfargen i bilde 50 (MERK: vi ber om bildet på plass 49, siden det første bildet er på plass 0)\n",
    "print(\"Gjennomsnittsfarge i bilde 50 er\", images.iloc[49].mean())\n",
    "print('Dataformatet til en piksel er', type(images.iloc[1,1]))"
   ]
  },
  {
   "cell_type": "markdown",
   "id": "05e7ed58-4756-4586-92dc-b70086b29e33",
   "metadata": {},
   "source": [
    "Nå skal vi se på de første 10 tallene i datasettet vårt."
   ]
  },
  {
   "cell_type": "code",
   "execution_count": 7,
   "id": "a0fcc11e-831e-4431-acf4-7ed6befcc8ee",
   "metadata": {
    "ExecuteTime": {
     "end_time": "2023-11-12T13:11:07.033389100Z",
     "start_time": "2023-11-12T13:11:06.578378100Z"
    }
   },
   "outputs": [
    {
     "data": {
      "text/plain": "<Figure size 720x720 with 10 Axes>",
      "image/png": "[encoded data removed]"
     },
     "metadata": {},
     "output_type": "display_data"
    }
   ],
   "source": [
    "features = np.array(images)\n",
    "features = features.reshape(features.shape[0], 28,28)\n",
    "\n",
    "fig = plt.figure(figsize=(10,10))\n",
    "\n",
    "for i in range(10):\n",
    "    fig.add_subplot(1, 10, i+1)\n",
    "    plt.imshow(features[i], cmap = 'gray')\n",
    "    plt.xticks([])\n",
    "    plt.yticks([])\n",
    "    plt.tight_layout()"
   ]
  },
  {
   "cell_type": "markdown",
   "id": "44fc10ae-fb08-4893-8a50-e8e42c9355c1",
   "metadata": {},
   "source": [
    "Det er ganske enkelt for oss mennesker å gjenkjenne disse individuelle sifferene -- selv om håndskrift kan være ganske uleselig. Nå vil vi se hvor bra $K$-gjennomsnittsalgoritmen finner struktur i disse dataene."
   ]
  },
  {
   "cell_type": "markdown",
   "id": "d1877096-690f-4d9a-aff7-9712193721bc",
   "metadata": {},
   "source": [
    "**3a.1)** Hvilke 3 siffer har vi i datasettet? Hvor mange bilder har vi totalt i datasettet? \n",
    "\n",
    "**3a.2)** Hvilket siffer ligner det 500. bildet i datasettet vårt på? Lag et bilde som viser dette sifferet. (Husk at Python begynner nummereringen med 0, og derfor refereres det 500. bildet til `[499]`)"
   ]
  },
  {
   "cell_type": "code",
   "execution_count": 8,
   "id": "38360dc9-a102-4248-acfe-969f807d399e",
   "metadata": {
    "ExecuteTime": {
     "end_time": "2023-11-12T13:11:07.217538500Z",
     "start_time": "2023-11-12T13:11:07.023204300Z"
    }
   },
   "outputs": [
    {
     "data": {
      "text/plain": "<Figure size 720x720 with 1 Axes>",
      "image/png": "[encoded data removed]"
     },
     "metadata": {},
     "output_type": "display_data"
    }
   ],
   "source": [
    "# her kan du lime inn og redigere kode for å plotte bildet\n",
    "features = np.array(images)\n",
    "features = features.reshape(features.shape[0], 28,28)\n",
    "\n",
    "fig = plt.figure(figsize=(10,10))\n",
    "plt.imshow(features[499], cmap = 'gray')\n",
    "plt.xticks([])\n",
    "plt.yticks([])\n",
    "plt.tight_layout()"
   ]
  },
  {
   "cell_type": "markdown",
   "id": "b475967c-ff64-4bbf-8a34-9a1f97ef4452",
   "metadata": {
    "tags": []
   },
   "source": [
    "### Oppgave 3b) Klyngeanalyse med $K$-gjennomsnitt<a name=\"oppgave3b\"></a>\n",
    "\n",
    "*Oppgave 3b) inneholder 4 spørsmål du skal svare på.*\n",
    "\n",
    "La oss nå utføre $K$-gjennomsnittalgoritme. Vi må gå gjennom følgende steg:\n",
    "\n",
    "  1. Angi antall klynger du ønsker\n",
    "  2. Initialiser $K$-gjennomsnitt-modellen\n",
    "  3. Tilpass $K$-gjennomsnitt-modellen\n",
    "\n",
    "Vi bruker $K$-gjennomsnittsfunksjonen med $K=3$ (se kode under), fordi vi håper jo å finne igjen de 3 sifferene i klyngene.\n",
    "\n",
    "I tillegg kan vi få tilgang til sentroidene i klyngene våre i tabellen `means.cluster_centers_`, og plotte dem for å se hvordan algoritmen mener de typiske bildene i de $K$ gruppene ser ut.\n",
    "\n",
    "Hint: Her kan du lese litt mer om KMeans-funksjonen: https://scikit-learn.org/stable/modules/generated/sklearn.cluster.KMeans.html#sklearn.cluster.KMeans"
   ]
  },
  {
   "cell_type": "code",
   "execution_count": 27,
   "id": "f6df65bd-9e61-463f-bfda-01a9cb3827c0",
   "metadata": {
    "ExecuteTime": {
     "end_time": "2023-11-12T13:28:00.946312800Z",
     "start_time": "2023-11-12T13:27:59.139946Z"
    }
   },
   "outputs": [
    {
     "data": {
      "text/plain": "<Figure size 720x720 with 4 Axes>",
      "image/png": "[encoded data removed]"
     },
     "metadata": {},
     "output_type": "display_data"
    }
   ],
   "source": [
    "# Antall klynger\n",
    "antall_klynger = 4\n",
    "\n",
    "# Initialiser k-gjennomsnittsalgoritmen\n",
    "kmeans = KMeans(n_clusters=antall_klynger, random_state=1, n_init=10, init='k-means++')\n",
    "\n",
    "# Tilpass modellen\n",
    "tilpass = kmeans.fit(images)\n",
    "\n",
    "# Få sentroidene\n",
    "sentroider = kmeans.cluster_centers_\n",
    "\n",
    "# Konverter sentroidene til et 28x28 bilde (for eksempel)\n",
    "sentroid_bilder = sentroider.reshape((antall_klynger, 28, 28))\n",
    "\n",
    "# Plot sentroidene som bilder\n",
    "fig, axs = plt.subplots(1, antall_klynger, figsize=(10, 10))\n",
    "\n",
    "for i in range(antall_klynger):\n",
    "    axs[i].imshow(sentroid_bilder[i], cmap='viridis')\n",
    "    axs[i].set_title(f'Sentroid {i + 1}')\n",
    "\n",
    "plt.show()"
   ]
  },
  {
   "cell_type": "markdown",
   "id": "b51da488-609e-4864-b279-49b58aa77b8f",
   "metadata": {},
   "source": [
    "**3b.1)** Tegn sentroidene av de 3 klyngene fra $K$-gjennomsnitt modellen. Tilpass koden over for å plotte. Her kan du ta skjermbilde av sentroidene og lime inn i svararket. Hint: Sentroidene har samme format som dataene (de er 384-dimensjonale), og hvis de er representative vil de se ut som tall."
   ]
  },
  {
   "cell_type": "code",
   "execution_count": 16,
   "id": "6ba55ecf-b94f-430a-afe6-46d4c330384d",
   "metadata": {
    "ExecuteTime": {
     "end_time": "2023-11-12T13:16:10.866741200Z",
     "start_time": "2023-11-12T13:16:10.785265200Z"
    }
   },
   "outputs": [
    {
     "ename": "InvalidIndexError",
     "evalue": "(slice(None, None, None), 2)",
     "output_type": "error",
     "traceback": [
      "\u001B[1;31m---------------------------------------------------------------------------\u001B[0m",
      "\u001B[1;31mTypeError\u001B[0m                                 Traceback (most recent call last)",
      "File \u001B[1;32m~\\anaconda3\\lib\\site-packages\\pandas\\core\\indexes\\base.py:3621\u001B[0m, in \u001B[0;36mIndex.get_loc\u001B[1;34m(self, key, method, tolerance)\u001B[0m\n\u001B[0;32m   3620\u001B[0m \u001B[38;5;28;01mtry\u001B[39;00m:\n\u001B[1;32m-> 3621\u001B[0m     \u001B[38;5;28;01mreturn\u001B[39;00m \u001B[38;5;28;43mself\u001B[39;49m\u001B[38;5;241;43m.\u001B[39;49m\u001B[43m_engine\u001B[49m\u001B[38;5;241;43m.\u001B[39;49m\u001B[43mget_loc\u001B[49m\u001B[43m(\u001B[49m\u001B[43mcasted_key\u001B[49m\u001B[43m)\u001B[49m\n\u001B[0;32m   3622\u001B[0m \u001B[38;5;28;01mexcept\u001B[39;00m \u001B[38;5;167;01mKeyError\u001B[39;00m \u001B[38;5;28;01mas\u001B[39;00m err:\n",
      "File \u001B[1;32m~\\anaconda3\\lib\\site-packages\\pandas\\_libs\\index.pyx:136\u001B[0m, in \u001B[0;36mpandas._libs.index.IndexEngine.get_loc\u001B[1;34m()\u001B[0m\n",
      "File \u001B[1;32m~\\anaconda3\\lib\\site-packages\\pandas\\_libs\\index.pyx:142\u001B[0m, in \u001B[0;36mpandas._libs.index.IndexEngine.get_loc\u001B[1;34m()\u001B[0m\n",
      "\u001B[1;31mTypeError\u001B[0m: '(slice(None, None, None), 2)' is an invalid key",
      "\nDuring handling of the above exception, another exception occurred:\n",
      "\u001B[1;31mInvalidIndexError\u001B[0m                         Traceback (most recent call last)",
      "Input \u001B[1;32mIn [16]\u001B[0m, in \u001B[0;36m<cell line: 2>\u001B[1;34m()\u001B[0m\n\u001B[0;32m      1\u001B[0m \u001B[38;5;66;03m# her kan du skrive koden for å plotte\u001B[39;00m\n\u001B[1;32m----> 2\u001B[0m plt\u001B[38;5;241m.\u001B[39mscatter(\u001B[43mimages\u001B[49m\u001B[43m[\u001B[49m\u001B[43m:\u001B[49m\u001B[43m,\u001B[49m\u001B[43m \u001B[49m\u001B[38;5;241;43m2\u001B[39;49m\u001B[43m]\u001B[49m, images[:, \u001B[38;5;241m3\u001B[39m], c\u001B[38;5;241m=\u001B[39mklynger, cmap\u001B[38;5;241m=\u001B[39m\u001B[38;5;124m'\u001B[39m\u001B[38;5;124mviridis\u001B[39m\u001B[38;5;124m'\u001B[39m, alpha\u001B[38;5;241m=\u001B[39m\u001B[38;5;241m0.7\u001B[39m)\n\u001B[0;32m      3\u001B[0m plt\u001B[38;5;241m.\u001B[39mscatter(sentroider[:, \u001B[38;5;241m0\u001B[39m], sentroider[:, \u001B[38;5;241m1\u001B[39m], c\u001B[38;5;241m=\u001B[39m\u001B[38;5;124m'\u001B[39m\u001B[38;5;124mred\u001B[39m\u001B[38;5;124m'\u001B[39m, marker\u001B[38;5;241m=\u001B[39m\u001B[38;5;124m'\u001B[39m\u001B[38;5;124mX\u001B[39m\u001B[38;5;124m'\u001B[39m, s\u001B[38;5;241m=\u001B[39m\u001B[38;5;241m200\u001B[39m)\n\u001B[0;32m      4\u001B[0m plt\u001B[38;5;241m.\u001B[39mtitle(\u001B[38;5;124m'\u001B[39m\u001B[38;5;124mK-gjennomsnittsentroider og klynger\u001B[39m\u001B[38;5;124m'\u001B[39m)\n",
      "File \u001B[1;32m~\\anaconda3\\lib\\site-packages\\pandas\\core\\frame.py:3505\u001B[0m, in \u001B[0;36mDataFrame.__getitem__\u001B[1;34m(self, key)\u001B[0m\n\u001B[0;32m   3503\u001B[0m \u001B[38;5;28;01mif\u001B[39;00m \u001B[38;5;28mself\u001B[39m\u001B[38;5;241m.\u001B[39mcolumns\u001B[38;5;241m.\u001B[39mnlevels \u001B[38;5;241m>\u001B[39m \u001B[38;5;241m1\u001B[39m:\n\u001B[0;32m   3504\u001B[0m     \u001B[38;5;28;01mreturn\u001B[39;00m \u001B[38;5;28mself\u001B[39m\u001B[38;5;241m.\u001B[39m_getitem_multilevel(key)\n\u001B[1;32m-> 3505\u001B[0m indexer \u001B[38;5;241m=\u001B[39m \u001B[38;5;28;43mself\u001B[39;49m\u001B[38;5;241;43m.\u001B[39;49m\u001B[43mcolumns\u001B[49m\u001B[38;5;241;43m.\u001B[39;49m\u001B[43mget_loc\u001B[49m\u001B[43m(\u001B[49m\u001B[43mkey\u001B[49m\u001B[43m)\u001B[49m\n\u001B[0;32m   3506\u001B[0m \u001B[38;5;28;01mif\u001B[39;00m is_integer(indexer):\n\u001B[0;32m   3507\u001B[0m     indexer \u001B[38;5;241m=\u001B[39m [indexer]\n",
      "File \u001B[1;32m~\\anaconda3\\lib\\site-packages\\pandas\\core\\indexes\\base.py:3628\u001B[0m, in \u001B[0;36mIndex.get_loc\u001B[1;34m(self, key, method, tolerance)\u001B[0m\n\u001B[0;32m   3623\u001B[0m         \u001B[38;5;28;01mraise\u001B[39;00m \u001B[38;5;167;01mKeyError\u001B[39;00m(key) \u001B[38;5;28;01mfrom\u001B[39;00m \u001B[38;5;21;01merr\u001B[39;00m\n\u001B[0;32m   3624\u001B[0m     \u001B[38;5;28;01mexcept\u001B[39;00m \u001B[38;5;167;01mTypeError\u001B[39;00m:\n\u001B[0;32m   3625\u001B[0m         \u001B[38;5;66;03m# If we have a listlike key, _check_indexing_error will raise\u001B[39;00m\n\u001B[0;32m   3626\u001B[0m         \u001B[38;5;66;03m#  InvalidIndexError. Otherwise we fall through and re-raise\u001B[39;00m\n\u001B[0;32m   3627\u001B[0m         \u001B[38;5;66;03m#  the TypeError.\u001B[39;00m\n\u001B[1;32m-> 3628\u001B[0m         \u001B[38;5;28;43mself\u001B[39;49m\u001B[38;5;241;43m.\u001B[39;49m\u001B[43m_check_indexing_error\u001B[49m\u001B[43m(\u001B[49m\u001B[43mkey\u001B[49m\u001B[43m)\u001B[49m\n\u001B[0;32m   3629\u001B[0m         \u001B[38;5;28;01mraise\u001B[39;00m\n\u001B[0;32m   3631\u001B[0m \u001B[38;5;66;03m# GH#42269\u001B[39;00m\n",
      "File \u001B[1;32m~\\anaconda3\\lib\\site-packages\\pandas\\core\\indexes\\base.py:5637\u001B[0m, in \u001B[0;36mIndex._check_indexing_error\u001B[1;34m(self, key)\u001B[0m\n\u001B[0;32m   5633\u001B[0m \u001B[38;5;28;01mdef\u001B[39;00m \u001B[38;5;21m_check_indexing_error\u001B[39m(\u001B[38;5;28mself\u001B[39m, key):\n\u001B[0;32m   5634\u001B[0m     \u001B[38;5;28;01mif\u001B[39;00m \u001B[38;5;129;01mnot\u001B[39;00m is_scalar(key):\n\u001B[0;32m   5635\u001B[0m         \u001B[38;5;66;03m# if key is not a scalar, directly raise an error (the code below\u001B[39;00m\n\u001B[0;32m   5636\u001B[0m         \u001B[38;5;66;03m# would convert to numpy arrays and raise later any way) - GH29926\u001B[39;00m\n\u001B[1;32m-> 5637\u001B[0m         \u001B[38;5;28;01mraise\u001B[39;00m InvalidIndexError(key)\n",
      "\u001B[1;31mInvalidIndexError\u001B[0m: (slice(None, None, None), 2)"
     ]
    }
   ],
   "source": [
    "# her kan du skrive koden for å plotte\n",
    "plt.scatter(images[:, 0], images[:, 1], c=klynger, cmap='viridis', alpha=0.7)\n",
    "plt.scatter(sentroider[:, 0], sentroider[:, 1], c='red', marker='X', s=200)\n",
    "plt.title('K-gjennomsnittsentroider og klynger')\n",
    "plt.show()"
   ]
  },
  {
   "cell_type": "markdown",
   "id": "6b1d9bbc-1f77-4195-a2e6-8ee8103c5cb5",
   "metadata": {},
   "source": [
    "**3b.2)** Synes du at grupperingen i klynger er relevant og nyttig? Forklar. Maks 3 setninger. \n",
    "\n",
    "**3b.3)** Vi har valgt $K = 3$ for dette eksempelet fordi vi vil finne klynger som representerer de 3 sifrene. Men generelt er $K$ vilkårlig. Kom opp med et forslag for hvordan man (generelt, ikke nødvendigvis her) best kan velge $K$. (Se her, for eksempel: https://medium.com/analytics-vidhya/how-to-determine-the-optimal-k-for-k-means-708505d204eb). Beskriv i egne ord med maks 3 setninger.\n",
    "\n",
    "**3b.4)** Kjør analysen igjen med $K = 2$ og $K = 4$. Synes du de nye grupperingene er relevante?\n",
    " "
   ]
  },
  {
   "cell_type": "code",
   "execution_count": null,
   "id": "5d71b712-7ec1-41a1-9fdb-491bad1a8234",
   "metadata": {
    "ExecuteTime": {
     "start_time": "2023-11-12T13:11:10.080807Z"
    }
   },
   "outputs": [],
   "source": [
    "# her kan du kjøre analysen med K = 2 og K = 4 (kopier relevant kode og gjør endringer)"
   ]
  },
  {
   "cell_type": "markdown",
   "id": "3e811036-ab70-49f1-9f00-72b66f0e212f",
   "metadata": {},
   "source": [
    "### Oppgave 3c) Hierarkisk klyngeanalyse<a name=\"oppgave3c\"></a>\n",
    "\n",
    "*Oppgave 3c) inneholder 3 spørsmål du skal svare på.*\n",
    "\n",
    "Nå skal vi bruke hierarkisk klyngeanalyse for *mnist*-datasettet med 3 sifre. Vi gjør *Agglomerative Clustering* ved bruk av `sklearn.cluster` pakken. (Agglomerative Clustering er noe vi har lært om i undervisningen, men se også her hvis du har lyst til å vite mer: https://en.wikipedia.org/wiki/Hierarchical_clustering)\n",
    "\n",
    "Fordi hierarkisk gruppering er tregt for store datasett, og særlig for grafiske data, tar vi et tilfeldig utvalg på 30 bilder fra det originale datasettet.\n",
    "\n",
    "**3c.1)** Vurder dendrogrammet nedenfor. Synes du at den hierarkiske grupperingsalgoritmen har laget gode/meningfulle grupper av bildene? (Maks 3 setninger).\n",
    "\n",
    "**3c.2)** I koden under har vi brukt gjennomsnittskobling (`method = 'average'`). Hvordan fungerer gjennomsnittskobling? (Maks 3 setninger).\n",
    "\n",
    "**3c.3)** Velg en annen metode enn `'average'` til å koble klyngene sammen (vi har lært om dette i undervisningen, her heter de `single`, `complete` og `centriod`) og lag et nytt dendogram ved å tilpasse koden nedenfor. Ser det bedre/verre ut? (Maks 3 setninger).\n"
   ]
  },
  {
   "cell_type": "code",
   "execution_count": null,
   "id": "0e270c18-579a-4e3c-aea9-f2ca1b0a126a",
   "metadata": {
    "ExecuteTime": {
     "start_time": "2023-11-12T13:11:10.083820600Z"
    }
   },
   "outputs": [],
   "source": [
    "n_image = 30\n",
    "\n",
    "sample = images.sample(n = n_image, random_state = 2)\n",
    "\n",
    "sampleimg = np.array(sample).reshape(sample.shape[0], 28,28)"
   ]
  },
  {
   "cell_type": "code",
   "execution_count": null,
   "id": "acbe121c-5f87-4ccf-9d73-d4ff65b27c56",
   "metadata": {
    "ExecuteTime": {
     "start_time": "2023-11-12T13:11:10.085824100Z"
    }
   },
   "outputs": [],
   "source": [
    "plt.figure(figsize=(15,10))\n",
    "ax = plt.subplot()\n",
    "\n",
    "# Bruk gjennomsnittskobling (method='average')\n",
    "link = linkage(y = sample, method = 'average', metric = 'euclidean')\n",
    "\n",
    "dendro = dendrogram(link)\n",
    "\n",
    "dcoord = np.array(dendro[\"dcoord\"])\n",
    "icoord = np.array(dendro[\"icoord\"])\n",
    "leaves = np.array(dendro[\"leaves\"])\n",
    "\n",
    "idx = np.argsort(dcoord[:, 2])\n",
    "\n",
    "dcoord = dcoord[idx, :]\n",
    "icoord = icoord[idx, :]\n",
    "\n",
    "idx = np.argsort(link[:, :2].ravel())\n",
    "label_pos = icoord[:, 1:3].ravel()[idx][:n_image]\n",
    "\n",
    "for i in range(n_image):\n",
    "    imagebox = OffsetImage(sampleimg[i], cmap = 'gray', interpolation = \"bilinear\")\n",
    "    ab = AnnotationBbox(imagebox, (label_pos[i], 0),  box_alignment=(0.5, -0.1), \n",
    "                        bboxprops={\"edgecolor\" : \"none\"})\n",
    "    ax.add_artist(ab)\n",
    "\n",
    "plt.title('Dendrogram for håndskrevne tall')\n",
    "plt.xlabel('Siffer')\n",
    "plt.ylabel('Avstand')\n",
    "plt.xticks([])\n",
    "plt.show()"
   ]
  },
  {
   "cell_type": "code",
   "execution_count": null,
   "id": "dae417d0-1a32-4ffb-8b6a-f6876c8285f0",
   "metadata": {
    "ExecuteTime": {
     "start_time": "2023-11-12T13:11:10.087822100Z"
    }
   },
   "outputs": [],
   "source": [
    "# her kan du lage et nytt dendrogram med ny 'method' (kopier koden over)"
   ]
  },
  {
   "cell_type": "markdown",
   "id": "96da744f-cf2e-49e3-a037-aabbbab0051c",
   "metadata": {},
   "source": [
    "### Oppgave 3d) Prediksjon<a name=\"oppgave3d\"></a>\n",
    "\n",
    "*Oppgave 3d) inneholder 1 spørsmål du skal svare på.*\n",
    "\n",
    "**3d.1)** Hvis vi skulle brukt en metode for å predikere/klassifisere hvilket siffer et håndskrevet tall er, og ikke bare samle dem i klynge, hva ville du brukt?"
   ]
  },
  {
   "cell_type": "markdown",
   "id": "ffb3ac98-7d1d-49a6-98d4-feb33c69b342",
   "metadata": {},
   "source": [
    "[Til toppen.](#top)"
   ]
  }
 ],
 "metadata": {
  "kernelspec": {
   "display_name": "Python 3",
   "language": "python",
   "name": "python3"
  },
  "language_info": {
   "codemirror_mode": {
    "name": "ipython",
    "version": 3
   },
   "file_extension": ".py",
   "mimetype": "text/x-python",
   "name": "python",
   "nbconvert_exporter": "python",
   "pygments_lexer": "ipython3",
   "version": "3.8.8"
  }
 },
 "nbformat": 4,
 "nbformat_minor": 5
}
